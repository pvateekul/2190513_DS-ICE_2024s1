{
 "cells": [
  {
   "cell_type": "code",
   "execution_count": null,
   "metadata": {},
   "outputs": [],
   "source": [
    "import requests\n",
    "\n",
    "url = \"YOUR_BASE_URL\"  # https://abc-def.ngrok.io\n",
    "\n",
    "new_item = {\"id\": 4, \"name\": \"Orange Juice\", \"price\": 10}\n",
    "\n",
    "response = requests.post(f\"{url}/items\", json=new_item)\n",
    "\n",
    "print(\"Post Result:\")\n",
    "print(response.json())"
   ]
  },
  {
   "cell_type": "code",
   "execution_count": null,
   "metadata": {},
   "outputs": [],
   "source": [
    "response = requests.get(f\"{url}/items/{new_item['id']}\")\n",
    "\n",
    "print(\"Get Result:\")\n",
    "print(response.json())"
   ]
  }
 ],
 "metadata": {
  "language_info": {
   "name": "python"
  }
 },
 "nbformat": 4,
 "nbformat_minor": 2
}
