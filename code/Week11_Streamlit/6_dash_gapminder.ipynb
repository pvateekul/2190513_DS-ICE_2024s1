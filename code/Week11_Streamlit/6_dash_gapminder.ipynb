{
  "nbformat": 4,
  "nbformat_minor": 0,
  "metadata": {
    "colab": {
      "provenance": []
    },
    "kernelspec": {
      "name": "python3",
      "display_name": "Python 3"
    },
    "language_info": {
      "name": "python"
    }
  },
  "cells": [
    {
      "cell_type": "code",
      "execution_count": null,
      "metadata": {
        "id": "81-Kq2t2wXKG"
      },
      "outputs": [],
      "source": [
        "%pip install pyngrok dash"
      ]
    },
    {
      "cell_type": "code",
      "source": [
        "## Dash application: Gapminder\n",
        "## scatter chart with slider\n",
        "## https://dash.plotly.com/basic-callbacks\n",
        "## Run this app with 'python dash_gapminder.py' and\n",
        "## visit http://127.0.0.1:8050/ in your web browser.\n",
        "\n",
        "from dash import Dash, dcc, html, Input, Output\n",
        "import plotly.express as px\n",
        "\n",
        "import pandas as pd\n",
        "\n",
        "df = pd.read_csv('https://raw.githubusercontent.com/plotly/datasets/master/gapminderDataFiveYear.csv')\n",
        "\n",
        "app = Dash(__name__)\n",
        "\n",
        "app.layout = html.Div([\n",
        "    dcc.Graph(id='graph-with-slider'),\n",
        "    dcc.Slider(\n",
        "        df['year'].min(),\n",
        "        df['year'].max(),\n",
        "        step=None,\n",
        "        value=df['year'].min(),\n",
        "        marks={str(year): str(year) for year in df['year'].unique()},\n",
        "        id='year-slider'\n",
        "    )\n",
        "])\n",
        "\n",
        "@app.callback(\n",
        "    Output('graph-with-slider', 'figure'),\n",
        "    Input('year-slider', 'value'))\n",
        "def update_figure(selected_year):\n",
        "    filtered_df = df[df.year == selected_year]\n",
        "\n",
        "    fig = px.scatter(filtered_df, x=\"gdpPercap\", y=\"lifeExp\",\n",
        "                     size=\"pop\", color=\"continent\", hover_name=\"country\",\n",
        "                     log_x=True, size_max=55)\n",
        "\n",
        "    fig.update_layout(transition_duration=500)\n",
        "\n",
        "    return fig\n",
        "\n",
        "\n",
        "if __name__ == '__main__':\n",
        "    app.run_server(debug=True)\n",
        "#    app.run_server(debug=True, port=8051)"
      ],
      "metadata": {
        "id": "epOFW6RWk5mI"
      },
      "execution_count": null,
      "outputs": []
    },
    {
      "cell_type": "code",
      "source": [
        "from pyngrok import ngrok\n",
        "\n",
        "ngrok.set_auth_token(\"YOUR_NGROK_TOKEN\")\n",
        "ngrok_tunnel = ngrok.connect(8050)\n",
        "\n",
        "print('Public URL:', ngrok_tunnel.public_url)"
      ],
      "metadata": {
        "id": "9Fk_e3JVlf4p"
      },
      "execution_count": null,
      "outputs": []
    }
  ]
}