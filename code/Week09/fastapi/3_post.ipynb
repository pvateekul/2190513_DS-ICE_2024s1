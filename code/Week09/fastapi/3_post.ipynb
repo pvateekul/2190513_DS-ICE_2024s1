{
 "cells": [
  {
   "cell_type": "code",
   "execution_count": null,
   "metadata": {},
   "outputs": [],
   "source": [
    "%pip install fastapi uvicorn pyngrok nest-asyncio pydantic"
   ]
  },
  {
   "cell_type": "code",
   "execution_count": null,
   "metadata": {},
   "outputs": [],
   "source": [
    "# post example\n",
    "\n",
    "from fastapi import FastAPI\n",
    "\n",
    "from typing import Optional, Union\n",
    "from pydantic import BaseModel\n",
    "\n",
    "\n",
    "class Item(BaseModel):\n",
    "    id: int\n",
    "    name: str\n",
    "    description: Optional[str] = None\n",
    "    price: float\n",
    "    tax: Optional[float] = None\n",
    "\n",
    "\n",
    "app = FastAPI()\n",
    "\n",
    "items = [\n",
    "    Item(id=1, name=\"Coke\", price=10),\n",
    "    Item(id=2, name=\"Pepsi\", price=15),\n",
    "    Item(id=3, name=\"7 UP\", price=20),\n",
    "]\n",
    "\n",
    "\n",
    "def find_item_by_id(item_id: int) -> tuple[int, Union[Item, None]]:\n",
    "    for idx, element in enumerate(items):\n",
    "        if element.id == item_id:\n",
    "            return idx, element\n",
    "\n",
    "    return -1, None\n",
    "\n",
    "\n",
    "@app.post(\"/items\")\n",
    "async def create_item(item: Item):\n",
    "    idx, current_item = find_item_by_id(item.id)\n",
    "\n",
    "    if current_item is not None:\n",
    "        return {\"message\": f\"item_id {item.id} is already existed\"}\n",
    "\n",
    "    items.append(item)\n",
    "\n",
    "    return item\n",
    "\n",
    "\n",
    "@app.get(\"/items/{item_id}\")\n",
    "async def read_item(item_id: int):\n",
    "    idx, item = find_item_by_id(item_id)\n",
    "\n",
    "    if item is None:\n",
    "        return {\"message\": f\"item_id {item_id} does not exist\"}\n",
    "\n",
    "    return item\n",
    "\n",
    "\n",
    "@app.get(\"/items\")\n",
    "async def list_items():\n",
    "    return items"
   ]
  },
  {
   "cell_type": "code",
   "execution_count": null,
   "metadata": {},
   "outputs": [],
   "source": [
    "import nest_asyncio\n",
    "from pyngrok import ngrok\n",
    "import uvicorn\n",
    "\n",
    "ngrok.set_auth_token(\"YOUR_NGROK_TOKEN\")\n",
    "ngrok_tunnel = ngrok.connect(8000)\n",
    "\n",
    "print('Public URL:', ngrok_tunnel.public_url)\n",
    "nest_asyncio.apply()\n",
    "uvicorn.run(app, port=8000)"
   ]
  }
 ],
 "metadata": {
  "language_info": {
   "name": "python"
  }
 },
 "nbformat": 4,
 "nbformat_minor": 2
}
