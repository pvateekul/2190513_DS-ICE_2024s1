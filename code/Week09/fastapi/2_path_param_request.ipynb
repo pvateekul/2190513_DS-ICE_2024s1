{
 "cells": [
  {
   "cell_type": "code",
   "execution_count": null,
   "metadata": {},
   "outputs": [],
   "source": [
    "import requests\n",
    "\n",
    "url = \"YOUR_BASE_URL\"  # https://abc-def.ngrok.io\n",
    "\n",
    "item_id = 1\n",
    "\n",
    "response = requests.get(f\"{url}/{item_id}\")\n",
    "\n",
    "print(\"Get Result:\")\n",
    "print(response.json())"
   ]
  }
 ],
 "metadata": {
  "language_info": {
   "name": "python"
  }
 },
 "nbformat": 4,
 "nbformat_minor": 2
}
