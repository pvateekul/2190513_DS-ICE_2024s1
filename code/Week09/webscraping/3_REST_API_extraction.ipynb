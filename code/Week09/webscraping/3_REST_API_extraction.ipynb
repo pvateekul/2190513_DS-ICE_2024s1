{
 "cells": [
  {
   "cell_type": "markdown",
   "metadata": {},
   "source": [
    "# REST API Data Extraction\n",
    "Gathering data from a REST API is quite typical.  Most Single-Page-Application (SPA) and AJAX dynamic pages rely on REST APIs.  In addition, most vendor-specific APIs such as Facebook, Twitter, etc., base on REST.\n",
    "\n",
    "The most important step of extracting data via REST API is to identify the endpoint."
   ]
  },
  {
   "cell_type": "code",
   "execution_count": 1,
   "metadata": {
    "scrolled": true
   },
   "outputs": [],
   "source": [
    "import requests\n",
    "import json\n",
    "import pprint"
   ]
  },
  {
   "cell_type": "markdown",
   "metadata": {},
   "source": [
    "## Call REST API\n",
    "After we investigate the main page of settrade.com, we can figure out the endpoint of the market information using debugger in the browser."
   ]
  },
  {
   "cell_type": "code",
   "execution_count": 2,
   "metadata": {},
   "outputs": [],
   "source": [
    "api_url = 'http://api.settrade.com/api/market/SET/info'"
   ]
  },
  {
   "cell_type": "code",
   "execution_count": 3,
   "metadata": {},
   "outputs": [
    {
     "data": {
      "text/plain": [
       "'{\"market_name\":\"SET\",\"market_display_name\":\"SET\",\"market_status\":\"Open2\",\"datetime\":\"03/10/2023 15:19:02\",\"gainer_amount\":75,\"gainer_volume\":3.583618E8,\"unchange_amount\":107,\"unchange_volume\":3.583618E8,\"loser_amount\":460,\"loser_volume\":2.3236622E9,\"index\":[{\"index_name\":\"SET\",\"index_display_name\":\"SET\",\"market\":\"SET\",\"prior\":1469.46,\"last\":1449.9,\"change\":-19.56,\"percent_change\":-1.33,\"high\":1459.99,\"low\":1443.24,\"total_volume\":9.282726141E9,\"total_value\":4.1575482249E10,\"flag_url\":null},{\"index_name\":\"SET50\",\"index_display_name\":\"SET50\",\"market\":\"SET\",\"prior\":901.06,\"last\":887.36,\"change\":-13.7,\"percent_change\":-1.52,\"high\":893.83,\"low\":883.11,\"total_volume\":1.3977198E9,\"total_value\":2.9736784461E10,\"flag_url\":null},{\"index_name\":\"SET100\",\"index_display_name\":\"SET100\",\"market\":\"SET\",\"prior\":2008.05,\"last\":1979.69,\"change\":-28.36,\"percent_change\":-1.41,\"high\":1992.91,\"low\":1969.37,\"total_volume\":1.987386E9,\"total_value\":3.5239303963E10,\"flag_url\":null},{\"index_name\":\"sSET\",\"index_display_name\":\"sSET\",\"market\":\"SET\",\"prior\":912.19,\"last\":900.78,\"change\":-11.41,\"percent_change\":-1.25,\"high\":910.22,\"low\":897.05,\"total_volume\":4.285362E8,\"total_value\":1.74973508E9,\"flag_url\":null},{\"index_name\":\"SETCLMV\",\"index_display_name\":\"SETCLMV\",\"market\":\"SET\",\"prior\":865.54,\"last\":849.16,\"change\":-16.38,\"percent_change\":-1.89,\"high\":860.26,\"low\":845.48,\"total_volume\":6.524883E8,\"total_value\":1.8932735833E10,\"flag_url\":null},{\"index_name\":\"SETHD\",\"index_display_name\":\"SETHD\",\"market\":\"SET\",\"prior\":1137.76,\"last\":1122.23,\"change\":-15.53,\"percent_change\":-1.36,\"high\":1131.74,\"low\":1116.4,\"total_volume\":9.956289E8,\"total_value\":1.3351643071E10,\"flag_url\":null},{\"index_name\":\"SETTHSI\",\"index_display_name\":\"SETTHSI\",\"market\":\"SET\",\"prior\":947.58,\"last\":934.26,\"change\":-13.32,\"percent_change\":-1.41,\"high\":940.68,\"low\":929.4,\"total_volume\":1.7105135E9,\"total_value\":3.0692855584E10,\"flag_url\":null},{\"index_name\":\"SETWB\",\"index_display_name\":\"SETWB\",\"market\":\"SET\",\"prior\":890.13,\"last\":879.79,\"change\":-10.34,\"percent_change\":-1.16,\"high\":886.49,\"low\":874.83,\"total_volume\":3.841213E8,\"total_value\":8.715145998E9,\"flag_url\":null}]}'"
      ]
     },
     "execution_count": 3,
     "metadata": {},
     "output_type": "execute_result"
    }
   ],
   "source": [
    "data_info = requests.get(api_url)\n",
    "data_info.text"
   ]
  },
  {
   "cell_type": "markdown",
   "metadata": {},
   "source": [
    "## Extract data\n",
    "Unmarshal or convert the json text in the response from the API into a variable"
   ]
  },
  {
   "cell_type": "code",
   "execution_count": 4,
   "metadata": {
    "scrolled": true
   },
   "outputs": [
    {
     "name": "stdout",
     "output_type": "stream",
     "text": [
      "[{'change': -19.56,\n",
      "  'flag_url': None,\n",
      "  'high': 1459.99,\n",
      "  'index_display_name': 'SET',\n",
      "  'index_name': 'SET',\n",
      "  'last': 1449.9,\n",
      "  'low': 1443.24,\n",
      "  'market': 'SET',\n",
      "  'percent_change': -1.33,\n",
      "  'prior': 1469.46,\n",
      "  'total_value': 41575482249.0,\n",
      "  'total_volume': 9282726141.0},\n",
      " {'change': -13.7,\n",
      "  'flag_url': None,\n",
      "  'high': 893.83,\n",
      "  'index_display_name': 'SET50',\n",
      "  'index_name': 'SET50',\n",
      "  'last': 887.36,\n",
      "  'low': 883.11,\n",
      "  'market': 'SET',\n",
      "  'percent_change': -1.52,\n",
      "  'prior': 901.06,\n",
      "  'total_value': 29736784461.0,\n",
      "  'total_volume': 1397719800.0},\n",
      " {'change': -28.36,\n",
      "  'flag_url': None,\n",
      "  'high': 1992.91,\n",
      "  'index_display_name': 'SET100',\n",
      "  'index_name': 'SET100',\n",
      "  'last': 1979.69,\n",
      "  'low': 1969.37,\n",
      "  'market': 'SET',\n",
      "  'percent_change': -1.41,\n",
      "  'prior': 2008.05,\n",
      "  'total_value': 35239303963.0,\n",
      "  'total_volume': 1987386000.0},\n",
      " {'change': -11.41,\n",
      "  'flag_url': None,\n",
      "  'high': 910.22,\n",
      "  'index_display_name': 'sSET',\n",
      "  'index_name': 'sSET',\n",
      "  'last': 900.78,\n",
      "  'low': 897.05,\n",
      "  'market': 'SET',\n",
      "  'percent_change': -1.25,\n",
      "  'prior': 912.19,\n",
      "  'total_value': 1749735080.0,\n",
      "  'total_volume': 428536200.0},\n",
      " {'change': -16.38,\n",
      "  'flag_url': None,\n",
      "  'high': 860.26,\n",
      "  'index_display_name': 'SETCLMV',\n",
      "  'index_name': 'SETCLMV',\n",
      "  'last': 849.16,\n",
      "  'low': 845.48,\n",
      "  'market': 'SET',\n",
      "  'percent_change': -1.89,\n",
      "  'prior': 865.54,\n",
      "  'total_value': 18932735833.0,\n",
      "  'total_volume': 652488300.0},\n",
      " {'change': -15.53,\n",
      "  'flag_url': None,\n",
      "  'high': 1131.74,\n",
      "  'index_display_name': 'SETHD',\n",
      "  'index_name': 'SETHD',\n",
      "  'last': 1122.23,\n",
      "  'low': 1116.4,\n",
      "  'market': 'SET',\n",
      "  'percent_change': -1.36,\n",
      "  'prior': 1137.76,\n",
      "  'total_value': 13351643071.0,\n",
      "  'total_volume': 995628900.0},\n",
      " {'change': -13.32,\n",
      "  'flag_url': None,\n",
      "  'high': 940.68,\n",
      "  'index_display_name': 'SETTHSI',\n",
      "  'index_name': 'SETTHSI',\n",
      "  'last': 934.26,\n",
      "  'low': 929.4,\n",
      "  'market': 'SET',\n",
      "  'percent_change': -1.41,\n",
      "  'prior': 947.58,\n",
      "  'total_value': 30692855584.0,\n",
      "  'total_volume': 1710513500.0},\n",
      " {'change': -10.34,\n",
      "  'flag_url': None,\n",
      "  'high': 886.49,\n",
      "  'index_display_name': 'SETWB',\n",
      "  'index_name': 'SETWB',\n",
      "  'last': 879.79,\n",
      "  'low': 874.83,\n",
      "  'market': 'SET',\n",
      "  'percent_change': -1.16,\n",
      "  'prior': 890.13,\n",
      "  'total_value': 8715145998.0,\n",
      "  'total_volume': 384121300.0}]\n"
     ]
    }
   ],
   "source": [
    "set_info = json.loads(data_info.text)\n",
    "pprint.pprint(set_info['index'])"
   ]
  },
  {
   "cell_type": "code",
   "execution_count": 5,
   "metadata": {},
   "outputs": [
    {
     "name": "stdout",
     "output_type": "stream",
     "text": [
      "SET 1449.9\n"
     ]
    }
   ],
   "source": [
    "market = set_info['index'][0]\n",
    "print(market['market'], market['last'])"
   ]
  },
  {
   "cell_type": "code",
   "execution_count": 6,
   "metadata": {},
   "outputs": [
    {
     "name": "stdout",
     "output_type": "stream",
     "text": [
      "SET 1449.9\n",
      "SET50 887.36\n",
      "SET100 1979.69\n",
      "sSET 900.78\n",
      "SETCLMV 849.16\n",
      "SETHD 1122.23\n",
      "SETTHSI 934.26\n",
      "SETWB 879.79\n"
     ]
    }
   ],
   "source": [
    "for ind in set_info['index']:\n",
    "    print(ind['index_name'], ind['last'])"
   ]
  },
  {
   "cell_type": "code",
   "execution_count": null,
   "metadata": {},
   "outputs": [],
   "source": []
  }
 ],
 "metadata": {
  "kernelspec": {
   "display_name": "Python 3 (ipykernel)",
   "language": "python",
   "name": "python3"
  },
  "language_info": {
   "codemirror_mode": {
    "name": "ipython",
    "version": 3
   },
   "file_extension": ".py",
   "mimetype": "text/x-python",
   "name": "python",
   "nbconvert_exporter": "python",
   "pygments_lexer": "ipython3",
   "version": "3.9.13"
  },
  "toc": {
   "base_numbering": 1,
   "nav_menu": {},
   "number_sections": true,
   "sideBar": true,
   "skip_h1_title": false,
   "title_cell": "Table of Contents",
   "title_sidebar": "Contents",
   "toc_cell": false,
   "toc_position": {},
   "toc_section_display": true,
   "toc_window_display": false
  },
  "varInspector": {
   "cols": {
    "lenName": 16,
    "lenType": 16,
    "lenVar": 40
   },
   "kernels_config": {
    "python": {
     "delete_cmd_postfix": "",
     "delete_cmd_prefix": "del ",
     "library": "var_list.py",
     "varRefreshCmd": "print(var_dic_list())"
    },
    "r": {
     "delete_cmd_postfix": ") ",
     "delete_cmd_prefix": "rm(",
     "library": "var_list.r",
     "varRefreshCmd": "cat(var_dic_list()) "
    }
   },
   "types_to_exclude": [
    "module",
    "function",
    "builtin_function_or_method",
    "instance",
    "_Feature"
   ],
   "window_display": false
  }
 },
 "nbformat": 4,
 "nbformat_minor": 4
}
