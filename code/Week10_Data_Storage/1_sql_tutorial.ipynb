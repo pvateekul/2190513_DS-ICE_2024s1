{
  "cells": [
    {
      "cell_type": "markdown",
      "metadata": {
        "id": "Rr6IsP6A8H2O"
      },
      "source": [
        "\n",
        "### 1. Import library\n",
        "\n",
        "##### 1.1 - Import library"
      ]
    },
    {
      "cell_type": "code",
      "execution_count": null,
      "metadata": {
        "id": "VJny8IvM8H2R"
      },
      "outputs": [],
      "source": [
        "import sqlite3\n",
        "import pandas as pd"
      ]
    },
    {
      "cell_type": "markdown",
      "metadata": {
        "id": "9YPO8ihp8H2S"
      },
      "source": [
        "-------------------\n",
        "\n",
        "### 2. Connect to Server and Create Database\n",
        "\n",
        "##### 2.1 - Define Server Connection Function\n",
        "\n",
        "**N.B. Update the variable 'pw' with the root password for your MySQL Server! Otherwise the connection cannot be made.**"
      ]
    },
    {
      "cell_type": "code",
      "execution_count": null,
      "metadata": {
        "id": "7QHYtSOL8H2S"
      },
      "outputs": [],
      "source": [
        "def create_db_connection(db_name):\n",
        "    connection = None\n",
        "    try:\n",
        "        connection = sqlite3.connect(f\"{db_name}.db\")  # Connect or create the database file\n",
        "        print(f\"Connection to SQLite DB '{db_name}' successful.\")\n",
        "    except sqlite3.Error as e:\n",
        "        print(f\"The error '{e}' occurred.\")\n",
        "    return connection"
      ]
    },
    {
      "cell_type": "markdown",
      "metadata": {
        "id": "u6QAWcxG8H2S"
      },
      "source": [
        "##### 2.2 - Create a New Database\n"
      ]
    },
    {
      "cell_type": "code",
      "execution_count": null,
      "metadata": {
        "id": "P7oiMU8l8H2T"
      },
      "outputs": [],
      "source": [
        "db_name = \"school\"\n",
        "connection = create_db_connection(db_name)"
      ]
    },
    {
      "cell_type": "markdown",
      "metadata": {
        "id": "HUL4qD2_8H2T"
      },
      "source": [
        "##### 2.3 - Define Query Execution Function"
      ]
    },
    {
      "cell_type": "code",
      "execution_count": null,
      "metadata": {
        "id": "ixWKKkbI8H2U"
      },
      "outputs": [],
      "source": [
        "def execute_query(connection, query):\n",
        "    cursor = connection.cursor()\n",
        "    try:\n",
        "        cursor.execute(query)\n",
        "        connection.commit()\n",
        "        print(\"Query executed successfully.\")\n",
        "    except sqlite3.Error as e:\n",
        "        print(f\"The error '{e}' occurred.\")"
      ]
    },
    {
      "cell_type": "markdown",
      "metadata": {
        "id": "LPzm1rWa8H2U"
      },
      "source": [
        "-------------------\n",
        "\n",
        "### 3. Creating Tables\n",
        "\n",
        "##### 3.1 - Create Teacher Table\n"
      ]
    },
    {
      "cell_type": "code",
      "execution_count": null,
      "metadata": {
        "id": "W5Y-Jhp88H2U"
      },
      "outputs": [],
      "source": [
        "create_teacher_table = \"\"\"\n",
        "CREATE TABLE IF NOT EXISTS teacher (\n",
        "  teacher_id INTEGER PRIMARY KEY,\n",
        "  first_name TEXT NOT NULL,\n",
        "  last_name TEXT NOT NULL,\n",
        "  language_1 TEXT NOT NULL,\n",
        "  language_2 TEXT,\n",
        "  dob DATE,\n",
        "  tax_id INTEGER UNIQUE,\n",
        "  phone_no TEXT\n",
        ");\n",
        "\"\"\"\n",
        "\n",
        "execute_query(connection, create_teacher_table)"
      ]
    },
    {
      "cell_type": "markdown",
      "metadata": {
        "id": "5kUjfWo68H2U"
      },
      "source": [
        "##### 3.2 - Create Course Table"
      ]
    },
    {
      "cell_type": "code",
      "execution_count": null,
      "metadata": {
        "id": "KAWtaX2c8H2U"
      },
      "outputs": [],
      "source": [
        "create_course_table = \"\"\"\n",
        "CREATE TABLE course (\n",
        "  course_id INT PRIMARY KEY,\n",
        "  course_name TEXT NOT NULL,\n",
        "  language TEXT NOT NULL,\n",
        "  level TEXT,\n",
        "  course_length_weeks INT,\n",
        "  start_date DATE,\n",
        "  in_school BOOLEAN,\n",
        "  teacher INT,\n",
        "  client INT\n",
        ");\n",
        "\"\"\"\n",
        "\n",
        "execute_query(connection, create_course_table)"
      ]
    },
    {
      "cell_type": "markdown",
      "metadata": {
        "id": "5l28-yOs8H2U"
      },
      "source": [
        "-----------------\n",
        "\n",
        "### 4. Insert into Tables\n",
        "\n",
        "##### 4.1 - Insert into Teacher Table\n"
      ]
    },
    {
      "cell_type": "code",
      "execution_count": null,
      "metadata": {
        "id": "oHDOBnfE8H2U"
      },
      "outputs": [],
      "source": [
        "teachers = \"\"\"\n",
        "INSERT INTO teacher VALUES\n",
        "(1,  'James', 'Smith', 'ENG', NULL, '1985-04-20', 12345, '+491774553676'),\n",
        "(2, 'Stefanie',  'Martin',  'FRA', NULL,  '1970-02-17', 23456, '+491234567890'),\n",
        "(3, 'Steve', 'Wang',  'MAN', 'ENG', '1990-11-12', 34567, '+447840921333'),\n",
        "(4, 'Friederike',  'Müller-Rossi', 'DEU', 'ITA', '1987-07-07',  45678, '+492345678901'),\n",
        "(5, 'Isobel', 'Ivanova', 'RUS', 'ENG', '1963-05-30',  56789, '+491772635467'),\n",
        "(6, 'Niamh', 'Murphy', 'ENG', 'IRI', '1995-09-08',  67890, '+491231231232');\n",
        "\"\"\"\n",
        "\n",
        "execute_query(connection, teachers)"
      ]
    },
    {
      "cell_type": "markdown",
      "metadata": {
        "id": "XMDLsPjv8H2V"
      },
      "source": [
        "##### 4.2 - Populate Course Table"
      ]
    },
    {
      "cell_type": "code",
      "execution_count": null,
      "metadata": {
        "id": "De0ryIzl8H2V"
      },
      "outputs": [],
      "source": [
        "courses = \"\"\"\n",
        "INSERT INTO course VALUES\n",
        "(12, 'English for Logistics', 'ENG', 'A1', 10, '2020-02-01', TRUE,  1, 105),\n",
        "(13, 'Beginner English', 'ENG', 'A2', 40, '2019-11-12',  FALSE, 6, 101),\n",
        "(14, 'Intermediate English', 'ENG', 'B2', 40, '2019-11-12', FALSE, 6, 101),\n",
        "(15, 'Advanced English', 'ENG', 'C1', 40, '2019-11-12', FALSE, 6, 101),\n",
        "(16, 'Mandarin für Autoindustrie', 'MAN', 'B1', 15, '2020-01-15', TRUE, 3, 103),\n",
        "(17, 'Français intermédiaire', 'FRA', 'B1',  18, '2020-04-03', FALSE, 2, 101),\n",
        "(18, 'Deutsch für Anfänger', 'DEU', 'A2', 8, '2020-02-14', TRUE, 4, 102),\n",
        "(19, 'Intermediate English', 'ENG', 'B2', 10, '2020-03-29', FALSE, 1, 104),\n",
        "(20, 'Fortgeschrittenes Russisch', 'RUS', 'C1',  4, '2020-04-08',  FALSE, 5, 103);\n",
        "\"\"\"\n",
        "\n",
        "execute_query(connection, courses)"
      ]
    },
    {
      "cell_type": "markdown",
      "metadata": {
        "id": "qQUX1rTY8H2V"
      },
      "source": [
        "--------------\n",
        "\n",
        "### 5. Reading Data\n",
        "\n",
        "##### 5.1 - Define Data Reading Function"
      ]
    },
    {
      "cell_type": "code",
      "execution_count": null,
      "metadata": {
        "id": "rB_ncwM88H2V"
      },
      "outputs": [],
      "source": [
        "def read_query(connection, query):\n",
        "    cursor = connection.cursor()\n",
        "    result = None\n",
        "    try:\n",
        "        cursor.execute(query)\n",
        "        result = cursor.fetchall()\n",
        "        return result\n",
        "    except Error as err:\n",
        "        print(f\"Error: '{err}'\")"
      ]
    },
    {
      "cell_type": "markdown",
      "metadata": {
        "id": "HmbXM24a8H2V"
      },
      "source": [
        "##### 5.2 - Read Data from Database\n",
        "\n",
        "Let's try this with a simple query to begin with."
      ]
    },
    {
      "cell_type": "code",
      "execution_count": null,
      "metadata": {
        "id": "ryMZn0sC8H2V"
      },
      "outputs": [],
      "source": [
        "q1 = \"\"\"\n",
        "SELECT *\n",
        "FROM teacher;\n",
        "\"\"\"\n",
        "results = read_query(connection, q1)\n",
        "\n",
        "for result in results:\n",
        "  print(result)"
      ]
    },
    {
      "cell_type": "markdown",
      "metadata": {
        "id": "XelCon4t8H2V"
      },
      "source": [
        "And here are some more queries to try."
      ]
    },
    {
      "cell_type": "code",
      "execution_count": null,
      "metadata": {
        "id": "Hy7BtJhe8H2W"
      },
      "outputs": [],
      "source": [
        "q2 = \"\"\"\n",
        "SELECT last_name, dob\n",
        "FROM teacher;\n",
        "\"\"\"\n",
        "\n",
        "q3 = \"\"\"\n",
        "SELECT *\n",
        "FROM course\n",
        "WHERE language = 'ENG'\n",
        "ORDER BY start_date DESC;\n",
        "\"\"\"\n",
        "\n",
        "q4 = \"\"\"\n",
        "SELECT first_name, last_name, phone_no\n",
        "FROM teacher\n",
        "WHERE dob < '1990-01-01';\n",
        "\"\"\"\n",
        "\n",
        "q5 = \"\"\"\n",
        "SELECT course.course_id, course.course_name, course.language, teacher.first_name, teacher.last_name\n",
        "FROM course\n",
        "JOIN teacher\n",
        "ON course.teacher = teacher.teacher_id\n",
        "WHERE course.in_school = FALSE;\n",
        "\"\"\"\n",
        "\n",
        "queries = [q2, q3, q4, q5]\n",
        "\n",
        "for q in queries:\n",
        "  print(q)\n",
        "  results = read_query(connection, q)\n",
        "  for result in results:\n",
        "    print(result)"
      ]
    },
    {
      "cell_type": "markdown",
      "metadata": {
        "id": "LEOsgO5V8H2W"
      },
      "source": [
        "##### 5.3 - Formatting Output into a pandas DataFrame\n"
      ]
    },
    {
      "cell_type": "code",
      "execution_count": null,
      "metadata": {
        "id": "MRhpqhjs8H2W"
      },
      "outputs": [],
      "source": [
        "from_db = []\n",
        "\n",
        "results = read_query(connection, q5)\n",
        "for result in results:\n",
        "  result = list(result)\n",
        "  from_db.append(result)\n",
        "\n",
        "\n",
        "columns = [\"course_id\", \"course_name\", \"language\",\n",
        "           \"teacher_first_name\", \"teacher_last_name\"]\n",
        "df = pd.DataFrame(from_db, columns=columns)\n",
        "\n",
        "display(df)"
      ]
    },
    {
      "cell_type": "markdown",
      "metadata": {
        "id": "7OwAu9ez8H2W"
      },
      "source": [
        "### 6. Updating Records\n",
        "\n",
        "##### 6.1 - Updating Teacher name"
      ]
    },
    {
      "cell_type": "code",
      "execution_count": null,
      "metadata": {
        "id": "00KXZIZd8H2W"
      },
      "outputs": [],
      "source": [
        "update = \"\"\"\n",
        "UPDATE teacher\n",
        "SET first_name = 'Jim', last_name = 'Halpert'\n",
        "WHERE teacher_id = 1;\n",
        "\"\"\"\n",
        "\n",
        "execute_query(connection, update)"
      ]
    },
    {
      "cell_type": "markdown",
      "metadata": {
        "id": "fgNWcFL98H2W"
      },
      "source": [
        "Let's see if that worked."
      ]
    },
    {
      "cell_type": "code",
      "execution_count": null,
      "metadata": {
        "id": "qHdmQfee8H2W"
      },
      "outputs": [],
      "source": [
        "q1 = \"\"\"\n",
        "SELECT *\n",
        "FROM teacher\n",
        "WHERE teacher_id = 1;\n",
        "\"\"\"\n",
        "\n",
        "results = read_query(connection, q1)\n",
        "\n",
        "for result in results:\n",
        "  print(result)"
      ]
    },
    {
      "cell_type": "markdown",
      "metadata": {
        "id": "URNX738Q8H2W"
      },
      "source": [
        "### 7. Deleting Records\n",
        "\n",
        "##### 7.1 - Deleting a Course"
      ]
    },
    {
      "cell_type": "code",
      "execution_count": null,
      "metadata": {
        "id": "XKO2tNvd8H2X"
      },
      "outputs": [],
      "source": [
        "q1 = \"\"\"\n",
        "SELECT *\n",
        "FROM course;\n",
        "\"\"\"\n",
        "\n",
        "results = read_query(connection, q1)\n",
        "\n",
        "from_db = []\n",
        "\n",
        "for result in results:\n",
        "  print(result)"
      ]
    },
    {
      "cell_type": "markdown",
      "metadata": {
        "id": "4vH-PSRG8H2X"
      },
      "source": [
        "Let's delete the course with course_id 20 - 'Fortgeschrittenes Russisch'. For this we will use the [DELETE](https://dev.mysql.com/doc/refman/8.0/en/delete.html) SQL command."
      ]
    },
    {
      "cell_type": "code",
      "execution_count": null,
      "metadata": {
        "id": "zxgIDETH8H2X"
      },
      "outputs": [],
      "source": [
        "delete_course = \"\"\"\n",
        "DELETE FROM course WHERE course_id = 20;\n",
        "\"\"\"\n",
        "\n",
        "execute_query(connection, delete_course)"
      ]
    },
    {
      "cell_type": "markdown",
      "metadata": {
        "id": "4fGJBUnk8H2X"
      },
      "source": [
        "Let's confirm that the course is gone."
      ]
    },
    {
      "cell_type": "code",
      "execution_count": null,
      "metadata": {
        "id": "pnBygdzj8H2X"
      },
      "outputs": [],
      "source": [
        "q1 = \"\"\"\n",
        "SELECT *\n",
        "FROM course;\n",
        "\"\"\"\n",
        "\n",
        "results = read_query(connection, q1)\n",
        "\n",
        "from_db = []\n",
        "\n",
        "for result in results:\n",
        "  print(result)"
      ]
    },
    {
      "cell_type": "markdown",
      "source": [
        "### 8. CSV to SQL"
      ],
      "metadata": {
        "id": "LP8v4WzP_Pqb"
      }
    },
    {
      "cell_type": "code",
      "source": [
        "!wget -O teacher_data.csv 'https://www.dropbox.com/scl/fi/kop7h5r7ilell91j3n6n2/Updated_Teacher_Data_CSV.csv?rlkey=d5xnwmbacxrlrt1bppjds2842&st=axph0s1v&dl=0'"
      ],
      "metadata": {
        "id": "YlPgzU2kgG6l"
      },
      "execution_count": null,
      "outputs": []
    },
    {
      "cell_type": "code",
      "source": [
        "teacher_df = pd.read_csv(\"teacher_data.csv\")\n",
        "\n",
        "cursor = connection.cursor()\n",
        "\n",
        "for index, row in teacher_df.iterrows():\n",
        "  sql = \"\"\"INSERT INTO teacher (teacher_id, first_name, last_name, language_1, language_2, dob, tax_id, phone_no)\n",
        "            VALUES (?, ?, ?, ?, ?, ?, ?, ?)\"\"\"\n",
        "  print(index, tuple(row))\n",
        "  print(sql)\n",
        "  print()\n",
        "  cursor.execute(sql, tuple(row))\n"
      ],
      "metadata": {
        "id": "aGN7500D_YwI"
      },
      "execution_count": null,
      "outputs": []
    },
    {
      "cell_type": "code",
      "source": [
        "query = \"SELECT * FROM teacher;\"\n",
        "df_teacher_from_db = pd.read_sql_query(query, connection)\n",
        "df_teacher_from_db"
      ],
      "metadata": {
        "id": "ZmDKzqRkCa2U"
      },
      "execution_count": null,
      "outputs": []
    }
  ],
  "metadata": {
    "kernelspec": {
      "display_name": "env_datasci",
      "language": "python",
      "name": "python3"
    },
    "language_info": {
      "codemirror_mode": {
        "name": "ipython",
        "version": 3
      },
      "file_extension": ".py",
      "mimetype": "text/x-python",
      "name": "python",
      "nbconvert_exporter": "python",
      "pygments_lexer": "ipython3",
      "version": "3.11.4"
    },
    "colab": {
      "provenance": []
    }
  },
  "nbformat": 4,
  "nbformat_minor": 0
}