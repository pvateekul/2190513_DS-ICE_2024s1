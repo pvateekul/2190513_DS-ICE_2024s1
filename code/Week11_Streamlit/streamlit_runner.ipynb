{
  "nbformat": 4,
  "nbformat_minor": 0,
  "metadata": {
    "colab": {
      "provenance": []
    },
    "kernelspec": {
      "name": "python3",
      "display_name": "Python 3"
    },
    "language_info": {
      "name": "python"
    }
  },
  "cells": [
    {
      "cell_type": "code",
      "execution_count": null,
      "metadata": {
        "id": "81-Kq2t2wXKG"
      },
      "outputs": [],
      "source": [
        "%pip install streamlit pyngrok"
      ]
    },
    {
      "cell_type": "code",
      "source": [
        "from pyngrok import ngrok\n",
        "\n",
        "ngrok.set_auth_token(\"YOUR_NGROK_TOKEN\")\n",
        "ngrok_tunnel = ngrok.connect(8501)\n",
        "\n",
        "print('Public URL:', ngrok_tunnel.public_url)\n",
        "\n",
        "!streamlit run YOUR_STREAMLIT_FILE_NAME.py"
      ],
      "metadata": {
        "id": "tkvjFWiIwdLj"
      },
      "execution_count": null,
      "outputs": []
    }
  ]
}