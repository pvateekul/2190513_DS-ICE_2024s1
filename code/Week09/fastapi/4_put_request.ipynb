{
 "cells": [
  {
   "cell_type": "code",
   "execution_count": null,
   "metadata": {},
   "outputs": [],
   "source": [
    "import requests\n",
    "\n",
    "url = \"YOUR_BASE_URL\"  # https://abc-def.ngrok.io\n",
    "\n",
    "update_item = {\"id\": 3, \"name\": \"9 UP\", \"price\": 90}\n",
    "\n",
    "response = requests.put(f\"{url}/items/{update_item['id']}\", json=update_item)\n",
    "\n",
    "print(\"Put Result:\")\n",
    "print(response.json())"
   ]
  },
  {
   "cell_type": "code",
   "execution_count": null,
   "metadata": {},
   "outputs": [],
   "source": [
    "response = requests.get(f\"{url}/items/{update_item['id']}\")\n",
    "\n",
    "print(\"Get Result:\")\n",
    "print(response.json())"
   ]
  }
 ],
 "metadata": {
  "language_info": {
   "name": "python"
  }
 },
 "nbformat": 4,
 "nbformat_minor": 2
}
